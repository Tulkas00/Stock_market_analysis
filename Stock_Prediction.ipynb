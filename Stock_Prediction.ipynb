{
 "cells": [
  {
   "cell_type": "code",
   "execution_count": 1,
   "id": "22a5a412-609f-49c8-9cde-5446a199a9f9",
   "metadata": {},
   "outputs": [],
   "source": [
    "import yfinance as yf\n",
    "import numpy as np\n",
    "from sklearn.linear_model import LinearRegression\n",
    "from sklearn.svm import SVR\n",
    "from sklearn.model_selection import train_test_split"
   ]
  },
  {
   "cell_type": "code",
   "execution_count": 2,
   "id": "37ae4672-e6e1-4513-b832-8f20edac46d4",
   "metadata": {},
   "outputs": [
    {
     "name": "stderr",
     "output_type": "stream",
     "text": [
      "[*********************100%***********************]  1 of 1 completed\n"
     ]
    }
   ],
   "source": [
    "df = yf.download(\"META\", start=\"2010-01-01\", end=\"2023-01-01\", actions=True)"
   ]
  },
  {
   "cell_type": "code",
   "execution_count": 3,
   "id": "4822daa7-d364-4fc9-acf6-3a2cde06daec",
   "metadata": {},
   "outputs": [],
   "source": [
    "df.columns = [col[0] for col in df.columns]"
   ]
  },
  {
   "cell_type": "code",
   "execution_count": 4,
   "id": "1903cfcc-ce07-4db7-9fed-b16b184abe9d",
   "metadata": {},
   "outputs": [
    {
     "data": {
      "text/html": [
       "<div>\n",
       "<style scoped>\n",
       "    .dataframe tbody tr th:only-of-type {\n",
       "        vertical-align: middle;\n",
       "    }\n",
       "\n",
       "    .dataframe tbody tr th {\n",
       "        vertical-align: top;\n",
       "    }\n",
       "\n",
       "    .dataframe thead th {\n",
       "        text-align: right;\n",
       "    }\n",
       "</style>\n",
       "<table border=\"1\" class=\"dataframe\">\n",
       "  <thead>\n",
       "    <tr style=\"text-align: right;\">\n",
       "      <th></th>\n",
       "      <th>Close</th>\n",
       "      <th>Dividends</th>\n",
       "      <th>High</th>\n",
       "      <th>Low</th>\n",
       "      <th>Open</th>\n",
       "      <th>Stock Splits</th>\n",
       "      <th>Volume</th>\n",
       "    </tr>\n",
       "    <tr>\n",
       "      <th>Date</th>\n",
       "      <th></th>\n",
       "      <th></th>\n",
       "      <th></th>\n",
       "      <th></th>\n",
       "      <th></th>\n",
       "      <th></th>\n",
       "      <th></th>\n",
       "    </tr>\n",
       "  </thead>\n",
       "  <tbody>\n",
       "    <tr>\n",
       "      <th>2012-05-18</th>\n",
       "      <td>38.084522</td>\n",
       "      <td>0.0</td>\n",
       "      <td>44.828761</td>\n",
       "      <td>37.855398</td>\n",
       "      <td>41.889986</td>\n",
       "      <td>0.0</td>\n",
       "      <td>573576400</td>\n",
       "    </tr>\n",
       "    <tr>\n",
       "      <th>2012-05-21</th>\n",
       "      <td>33.900505</td>\n",
       "      <td>0.0</td>\n",
       "      <td>36.520498</td>\n",
       "      <td>32.874426</td>\n",
       "      <td>36.390992</td>\n",
       "      <td>0.0</td>\n",
       "      <td>168192700</td>\n",
       "    </tr>\n",
       "    <tr>\n",
       "      <th>2012-05-22</th>\n",
       "      <td>30.882032</td>\n",
       "      <td>0.0</td>\n",
       "      <td>33.462177</td>\n",
       "      <td>30.822261</td>\n",
       "      <td>32.485906</td>\n",
       "      <td>0.0</td>\n",
       "      <td>101786600</td>\n",
       "    </tr>\n",
       "    <tr>\n",
       "      <th>2012-05-23</th>\n",
       "      <td>31.878227</td>\n",
       "      <td>0.0</td>\n",
       "      <td>32.376325</td>\n",
       "      <td>31.240663</td>\n",
       "      <td>31.250625</td>\n",
       "      <td>0.0</td>\n",
       "      <td>73600000</td>\n",
       "    </tr>\n",
       "    <tr>\n",
       "      <th>2012-05-24</th>\n",
       "      <td>32.904305</td>\n",
       "      <td>0.0</td>\n",
       "      <td>33.083620</td>\n",
       "      <td>31.649101</td>\n",
       "      <td>32.824611</td>\n",
       "      <td>0.0</td>\n",
       "      <td>50237200</td>\n",
       "    </tr>\n",
       "  </tbody>\n",
       "</table>\n",
       "</div>"
      ],
      "text/plain": [
       "                Close  Dividends       High        Low       Open  \\\n",
       "Date                                                                \n",
       "2012-05-18  38.084522        0.0  44.828761  37.855398  41.889986   \n",
       "2012-05-21  33.900505        0.0  36.520498  32.874426  36.390992   \n",
       "2012-05-22  30.882032        0.0  33.462177  30.822261  32.485906   \n",
       "2012-05-23  31.878227        0.0  32.376325  31.240663  31.250625   \n",
       "2012-05-24  32.904305        0.0  33.083620  31.649101  32.824611   \n",
       "\n",
       "            Stock Splits     Volume  \n",
       "Date                                 \n",
       "2012-05-18           0.0  573576400  \n",
       "2012-05-21           0.0  168192700  \n",
       "2012-05-22           0.0  101786600  \n",
       "2012-05-23           0.0   73600000  \n",
       "2012-05-24           0.0   50237200  "
      ]
     },
     "execution_count": 4,
     "metadata": {},
     "output_type": "execute_result"
    }
   ],
   "source": [
    "df.head()"
   ]
  },
  {
   "cell_type": "code",
   "execution_count": 5,
   "id": "d7afb66d-be19-4cb9-8ce2-444168648289",
   "metadata": {},
   "outputs": [
    {
     "name": "stdout",
     "output_type": "stream",
     "text": [
      "<class 'pandas.core.frame.DataFrame'>\n",
      "DatetimeIndex: 2673 entries, 2012-05-18 to 2022-12-30\n",
      "Data columns (total 7 columns):\n",
      " #   Column        Non-Null Count  Dtype  \n",
      "---  ------        --------------  -----  \n",
      " 0   Close         2673 non-null   float64\n",
      " 1   Dividends     2673 non-null   float64\n",
      " 2   High          2673 non-null   float64\n",
      " 3   Low           2673 non-null   float64\n",
      " 4   Open          2673 non-null   float64\n",
      " 5   Stock Splits  2673 non-null   float64\n",
      " 6   Volume        2673 non-null   int64  \n",
      "dtypes: float64(6), int64(1)\n",
      "memory usage: 167.1 KB\n"
     ]
    }
   ],
   "source": [
    "df.info()"
   ]
  },
  {
   "cell_type": "code",
   "execution_count": 6,
   "id": "009f20ef-e89f-401b-b9a9-6120f0971e74",
   "metadata": {},
   "outputs": [],
   "source": [
    "df=df[['Close']]"
   ]
  },
  {
   "cell_type": "code",
   "execution_count": 7,
   "id": "5cc99305-5a26-4655-a502-314868930406",
   "metadata": {},
   "outputs": [],
   "source": [
    "forecast=30"
   ]
  },
  {
   "cell_type": "code",
   "execution_count": 8,
   "id": "cd55964c-b1d6-4149-9db3-1f250f4fec2e",
   "metadata": {},
   "outputs": [],
   "source": [
    "df['Prediction']=df[['Close']].shift(-forecast)"
   ]
  },
  {
   "cell_type": "code",
   "execution_count": 9,
   "id": "2fb57f32-5969-4377-8335-a95d1f8c3fdb",
   "metadata": {},
   "outputs": [
    {
     "data": {
      "text/html": [
       "<div>\n",
       "<style scoped>\n",
       "    .dataframe tbody tr th:only-of-type {\n",
       "        vertical-align: middle;\n",
       "    }\n",
       "\n",
       "    .dataframe tbody tr th {\n",
       "        vertical-align: top;\n",
       "    }\n",
       "\n",
       "    .dataframe thead th {\n",
       "        text-align: right;\n",
       "    }\n",
       "</style>\n",
       "<table border=\"1\" class=\"dataframe\">\n",
       "  <thead>\n",
       "    <tr style=\"text-align: right;\">\n",
       "      <th></th>\n",
       "      <th>Close</th>\n",
       "      <th>Prediction</th>\n",
       "    </tr>\n",
       "    <tr>\n",
       "      <th>Date</th>\n",
       "      <th></th>\n",
       "      <th></th>\n",
       "    </tr>\n",
       "  </thead>\n",
       "  <tbody>\n",
       "    <tr>\n",
       "      <th>2012-05-18</th>\n",
       "      <td>38.084522</td>\n",
       "      <td>30.652910</td>\n",
       "    </tr>\n",
       "    <tr>\n",
       "      <th>2012-05-21</th>\n",
       "      <td>33.900505</td>\n",
       "      <td>31.081272</td>\n",
       "    </tr>\n",
       "    <tr>\n",
       "      <th>2012-05-22</th>\n",
       "      <td>30.882032</td>\n",
       "      <td>31.350245</td>\n",
       "    </tr>\n",
       "    <tr>\n",
       "      <th>2012-05-23</th>\n",
       "      <td>31.878227</td>\n",
       "      <td>31.609255</td>\n",
       "    </tr>\n",
       "    <tr>\n",
       "      <th>2012-05-24</th>\n",
       "      <td>32.904305</td>\n",
       "      <td>32.047577</td>\n",
       "    </tr>\n",
       "  </tbody>\n",
       "</table>\n",
       "</div>"
      ],
      "text/plain": [
       "                Close  Prediction\n",
       "Date                             \n",
       "2012-05-18  38.084522   30.652910\n",
       "2012-05-21  33.900505   31.081272\n",
       "2012-05-22  30.882032   31.350245\n",
       "2012-05-23  31.878227   31.609255\n",
       "2012-05-24  32.904305   32.047577"
      ]
     },
     "execution_count": 9,
     "metadata": {},
     "output_type": "execute_result"
    }
   ],
   "source": [
    "df.head()"
   ]
  },
  {
   "cell_type": "code",
   "execution_count": 10,
   "id": "fd4d6ac4-005a-40c0-b9f8-b4ab42af3643",
   "metadata": {},
   "outputs": [
    {
     "data": {
      "text/html": [
       "<div>\n",
       "<style scoped>\n",
       "    .dataframe tbody tr th:only-of-type {\n",
       "        vertical-align: middle;\n",
       "    }\n",
       "\n",
       "    .dataframe tbody tr th {\n",
       "        vertical-align: top;\n",
       "    }\n",
       "\n",
       "    .dataframe thead th {\n",
       "        text-align: right;\n",
       "    }\n",
       "</style>\n",
       "<table border=\"1\" class=\"dataframe\">\n",
       "  <thead>\n",
       "    <tr style=\"text-align: right;\">\n",
       "      <th></th>\n",
       "      <th>Close</th>\n",
       "      <th>Prediction</th>\n",
       "    </tr>\n",
       "    <tr>\n",
       "      <th>Date</th>\n",
       "      <th></th>\n",
       "      <th></th>\n",
       "    </tr>\n",
       "  </thead>\n",
       "  <tbody>\n",
       "    <tr>\n",
       "      <th>2022-12-23</th>\n",
       "      <td>117.590805</td>\n",
       "      <td>NaN</td>\n",
       "    </tr>\n",
       "    <tr>\n",
       "      <th>2022-12-27</th>\n",
       "      <td>116.435219</td>\n",
       "      <td>NaN</td>\n",
       "    </tr>\n",
       "    <tr>\n",
       "      <th>2022-12-28</th>\n",
       "      <td>115.180023</td>\n",
       "      <td>NaN</td>\n",
       "    </tr>\n",
       "    <tr>\n",
       "      <th>2022-12-29</th>\n",
       "      <td>119.802368</td>\n",
       "      <td>NaN</td>\n",
       "    </tr>\n",
       "    <tr>\n",
       "      <th>2022-12-30</th>\n",
       "      <td>119.882057</td>\n",
       "      <td>NaN</td>\n",
       "    </tr>\n",
       "  </tbody>\n",
       "</table>\n",
       "</div>"
      ],
      "text/plain": [
       "                 Close  Prediction\n",
       "Date                              \n",
       "2022-12-23  117.590805         NaN\n",
       "2022-12-27  116.435219         NaN\n",
       "2022-12-28  115.180023         NaN\n",
       "2022-12-29  119.802368         NaN\n",
       "2022-12-30  119.882057         NaN"
      ]
     },
     "execution_count": 10,
     "metadata": {},
     "output_type": "execute_result"
    }
   ],
   "source": [
    "df.tail()"
   ]
  },
  {
   "cell_type": "code",
   "execution_count": 11,
   "id": "94a5dd07-f0bb-43e7-8fdd-d8187619a847",
   "metadata": {},
   "outputs": [
    {
     "name": "stdout",
     "output_type": "stream",
     "text": [
      "[[ 38.08452225]\n",
      " [ 33.90050507]\n",
      " [ 30.88203239]\n",
      " ...\n",
      " [113.78534698]\n",
      " [116.63447571]\n",
      " [112.79911804]]\n"
     ]
    },
    {
     "name": "stderr",
     "output_type": "stream",
     "text": [
      "C:\\Users\\KAANANE Youssef\\AppData\\Local\\Temp\\ipykernel_8556\\1710317670.py:1: FutureWarning: In a future version of pandas all arguments of DataFrame.drop except for the argument 'labels' will be keyword-only.\n",
      "  X=np.array(df.drop(['Prediction'],1))\n"
     ]
    }
   ],
   "source": [
    "X=np.array(df.drop(['Prediction'],1))\n",
    "X=X[:-forecast]\n",
    "print(X)"
   ]
  },
  {
   "cell_type": "code",
   "execution_count": 12,
   "id": "1c5c08b0-953a-4f34-8862-34ddf9aedee7",
   "metadata": {},
   "outputs": [
    {
     "name": "stdout",
     "output_type": "stream",
     "text": [
      "[ 30.65291023  31.08127213  31.35024452 ... 115.18002319 119.80236816\n",
      " 119.88205719]\n"
     ]
    }
   ],
   "source": [
    "y=np.array(df['Prediction'])\n",
    "y=y[:-forecast]\n",
    "print(y)"
   ]
  },
  {
   "cell_type": "code",
   "execution_count": 13,
   "id": "739e02a1-b92a-4931-ad87-3d4212dd525d",
   "metadata": {},
   "outputs": [],
   "source": [
    "x_train,x_test,y_train,y_test=train_test_split(X,y,test_size=0.2)"
   ]
  },
  {
   "cell_type": "code",
   "execution_count": 14,
   "id": "a767fdd5-9a83-45d8-a716-edce7ffb491e",
   "metadata": {},
   "outputs": [
    {
     "data": {
      "text/html": [
       "<style>#sk-container-id-1 {color: black;background-color: white;}#sk-container-id-1 pre{padding: 0;}#sk-container-id-1 div.sk-toggleable {background-color: white;}#sk-container-id-1 label.sk-toggleable__label {cursor: pointer;display: block;width: 100%;margin-bottom: 0;padding: 0.3em;box-sizing: border-box;text-align: center;}#sk-container-id-1 label.sk-toggleable__label-arrow:before {content: \"▸\";float: left;margin-right: 0.25em;color: #696969;}#sk-container-id-1 label.sk-toggleable__label-arrow:hover:before {color: black;}#sk-container-id-1 div.sk-estimator:hover label.sk-toggleable__label-arrow:before {color: black;}#sk-container-id-1 div.sk-toggleable__content {max-height: 0;max-width: 0;overflow: hidden;text-align: left;background-color: #f0f8ff;}#sk-container-id-1 div.sk-toggleable__content pre {margin: 0.2em;color: black;border-radius: 0.25em;background-color: #f0f8ff;}#sk-container-id-1 input.sk-toggleable__control:checked~div.sk-toggleable__content {max-height: 200px;max-width: 100%;overflow: auto;}#sk-container-id-1 input.sk-toggleable__control:checked~label.sk-toggleable__label-arrow:before {content: \"▾\";}#sk-container-id-1 div.sk-estimator input.sk-toggleable__control:checked~label.sk-toggleable__label {background-color: #d4ebff;}#sk-container-id-1 div.sk-label input.sk-toggleable__control:checked~label.sk-toggleable__label {background-color: #d4ebff;}#sk-container-id-1 input.sk-hidden--visually {border: 0;clip: rect(1px 1px 1px 1px);clip: rect(1px, 1px, 1px, 1px);height: 1px;margin: -1px;overflow: hidden;padding: 0;position: absolute;width: 1px;}#sk-container-id-1 div.sk-estimator {font-family: monospace;background-color: #f0f8ff;border: 1px dotted black;border-radius: 0.25em;box-sizing: border-box;margin-bottom: 0.5em;}#sk-container-id-1 div.sk-estimator:hover {background-color: #d4ebff;}#sk-container-id-1 div.sk-parallel-item::after {content: \"\";width: 100%;border-bottom: 1px solid gray;flex-grow: 1;}#sk-container-id-1 div.sk-label:hover label.sk-toggleable__label {background-color: #d4ebff;}#sk-container-id-1 div.sk-serial::before {content: \"\";position: absolute;border-left: 1px solid gray;box-sizing: border-box;top: 0;bottom: 0;left: 50%;z-index: 0;}#sk-container-id-1 div.sk-serial {display: flex;flex-direction: column;align-items: center;background-color: white;padding-right: 0.2em;padding-left: 0.2em;position: relative;}#sk-container-id-1 div.sk-item {position: relative;z-index: 1;}#sk-container-id-1 div.sk-parallel {display: flex;align-items: stretch;justify-content: center;background-color: white;position: relative;}#sk-container-id-1 div.sk-item::before, #sk-container-id-1 div.sk-parallel-item::before {content: \"\";position: absolute;border-left: 1px solid gray;box-sizing: border-box;top: 0;bottom: 0;left: 50%;z-index: -1;}#sk-container-id-1 div.sk-parallel-item {display: flex;flex-direction: column;z-index: 1;position: relative;background-color: white;}#sk-container-id-1 div.sk-parallel-item:first-child::after {align-self: flex-end;width: 50%;}#sk-container-id-1 div.sk-parallel-item:last-child::after {align-self: flex-start;width: 50%;}#sk-container-id-1 div.sk-parallel-item:only-child::after {width: 0;}#sk-container-id-1 div.sk-dashed-wrapped {border: 1px dashed gray;margin: 0 0.4em 0.5em 0.4em;box-sizing: border-box;padding-bottom: 0.4em;background-color: white;}#sk-container-id-1 div.sk-label label {font-family: monospace;font-weight: bold;display: inline-block;line-height: 1.2em;}#sk-container-id-1 div.sk-label-container {text-align: center;}#sk-container-id-1 div.sk-container {/* jupyter's `normalize.less` sets `[hidden] { display: none; }` but bootstrap.min.css set `[hidden] { display: none !important; }` so we also need the `!important` here to be able to override the default hidden behavior on the sphinx rendered scikit-learn.org. See: https://github.com/scikit-learn/scikit-learn/issues/21755 */display: inline-block !important;position: relative;}#sk-container-id-1 div.sk-text-repr-fallback {display: none;}</style><div id=\"sk-container-id-1\" class=\"sk-top-container\"><div class=\"sk-text-repr-fallback\"><pre>SVR(C=1000.0, gamma=0.1)</pre><b>In a Jupyter environment, please rerun this cell to show the HTML representation or trust the notebook. <br />On GitHub, the HTML representation is unable to render, please try loading this page with nbviewer.org.</b></div><div class=\"sk-container\" hidden><div class=\"sk-item\"><div class=\"sk-estimator sk-toggleable\"><input class=\"sk-toggleable__control sk-hidden--visually\" id=\"sk-estimator-id-1\" type=\"checkbox\" checked><label for=\"sk-estimator-id-1\" class=\"sk-toggleable__label sk-toggleable__label-arrow\">SVR</label><div class=\"sk-toggleable__content\"><pre>SVR(C=1000.0, gamma=0.1)</pre></div></div></div></div></div>"
      ],
      "text/plain": [
       "SVR(C=1000.0, gamma=0.1)"
      ]
     },
     "execution_count": 14,
     "metadata": {},
     "output_type": "execute_result"
    }
   ],
   "source": [
    "svr_rbf=SVR(kernel='rbf', C=1e3, gamma=0.1)\n",
    "svr_rbf.fit(x_train,y_train)"
   ]
  },
  {
   "cell_type": "code",
   "execution_count": 15,
   "id": "469e80b8-7f10-47ca-afcd-22a3e46fe90f",
   "metadata": {},
   "outputs": [
    {
     "data": {
      "text/plain": [
       "0.9357873481193922"
      ]
     },
     "execution_count": 15,
     "metadata": {},
     "output_type": "execute_result"
    }
   ],
   "source": [
    "svm=svr_rbf.score(x_test,y_test)\n",
    "svm"
   ]
  },
  {
   "cell_type": "code",
   "execution_count": 16,
   "id": "5967a604-57eb-4799-96e3-456cb094a8cb",
   "metadata": {},
   "outputs": [
    {
     "data": {
      "text/html": [
       "<style>#sk-container-id-2 {color: black;background-color: white;}#sk-container-id-2 pre{padding: 0;}#sk-container-id-2 div.sk-toggleable {background-color: white;}#sk-container-id-2 label.sk-toggleable__label {cursor: pointer;display: block;width: 100%;margin-bottom: 0;padding: 0.3em;box-sizing: border-box;text-align: center;}#sk-container-id-2 label.sk-toggleable__label-arrow:before {content: \"▸\";float: left;margin-right: 0.25em;color: #696969;}#sk-container-id-2 label.sk-toggleable__label-arrow:hover:before {color: black;}#sk-container-id-2 div.sk-estimator:hover label.sk-toggleable__label-arrow:before {color: black;}#sk-container-id-2 div.sk-toggleable__content {max-height: 0;max-width: 0;overflow: hidden;text-align: left;background-color: #f0f8ff;}#sk-container-id-2 div.sk-toggleable__content pre {margin: 0.2em;color: black;border-radius: 0.25em;background-color: #f0f8ff;}#sk-container-id-2 input.sk-toggleable__control:checked~div.sk-toggleable__content {max-height: 200px;max-width: 100%;overflow: auto;}#sk-container-id-2 input.sk-toggleable__control:checked~label.sk-toggleable__label-arrow:before {content: \"▾\";}#sk-container-id-2 div.sk-estimator input.sk-toggleable__control:checked~label.sk-toggleable__label {background-color: #d4ebff;}#sk-container-id-2 div.sk-label input.sk-toggleable__control:checked~label.sk-toggleable__label {background-color: #d4ebff;}#sk-container-id-2 input.sk-hidden--visually {border: 0;clip: rect(1px 1px 1px 1px);clip: rect(1px, 1px, 1px, 1px);height: 1px;margin: -1px;overflow: hidden;padding: 0;position: absolute;width: 1px;}#sk-container-id-2 div.sk-estimator {font-family: monospace;background-color: #f0f8ff;border: 1px dotted black;border-radius: 0.25em;box-sizing: border-box;margin-bottom: 0.5em;}#sk-container-id-2 div.sk-estimator:hover {background-color: #d4ebff;}#sk-container-id-2 div.sk-parallel-item::after {content: \"\";width: 100%;border-bottom: 1px solid gray;flex-grow: 1;}#sk-container-id-2 div.sk-label:hover label.sk-toggleable__label {background-color: #d4ebff;}#sk-container-id-2 div.sk-serial::before {content: \"\";position: absolute;border-left: 1px solid gray;box-sizing: border-box;top: 0;bottom: 0;left: 50%;z-index: 0;}#sk-container-id-2 div.sk-serial {display: flex;flex-direction: column;align-items: center;background-color: white;padding-right: 0.2em;padding-left: 0.2em;position: relative;}#sk-container-id-2 div.sk-item {position: relative;z-index: 1;}#sk-container-id-2 div.sk-parallel {display: flex;align-items: stretch;justify-content: center;background-color: white;position: relative;}#sk-container-id-2 div.sk-item::before, #sk-container-id-2 div.sk-parallel-item::before {content: \"\";position: absolute;border-left: 1px solid gray;box-sizing: border-box;top: 0;bottom: 0;left: 50%;z-index: -1;}#sk-container-id-2 div.sk-parallel-item {display: flex;flex-direction: column;z-index: 1;position: relative;background-color: white;}#sk-container-id-2 div.sk-parallel-item:first-child::after {align-self: flex-end;width: 50%;}#sk-container-id-2 div.sk-parallel-item:last-child::after {align-self: flex-start;width: 50%;}#sk-container-id-2 div.sk-parallel-item:only-child::after {width: 0;}#sk-container-id-2 div.sk-dashed-wrapped {border: 1px dashed gray;margin: 0 0.4em 0.5em 0.4em;box-sizing: border-box;padding-bottom: 0.4em;background-color: white;}#sk-container-id-2 div.sk-label label {font-family: monospace;font-weight: bold;display: inline-block;line-height: 1.2em;}#sk-container-id-2 div.sk-label-container {text-align: center;}#sk-container-id-2 div.sk-container {/* jupyter's `normalize.less` sets `[hidden] { display: none; }` but bootstrap.min.css set `[hidden] { display: none !important; }` so we also need the `!important` here to be able to override the default hidden behavior on the sphinx rendered scikit-learn.org. See: https://github.com/scikit-learn/scikit-learn/issues/21755 */display: inline-block !important;position: relative;}#sk-container-id-2 div.sk-text-repr-fallback {display: none;}</style><div id=\"sk-container-id-2\" class=\"sk-top-container\"><div class=\"sk-text-repr-fallback\"><pre>LinearRegression()</pre><b>In a Jupyter environment, please rerun this cell to show the HTML representation or trust the notebook. <br />On GitHub, the HTML representation is unable to render, please try loading this page with nbviewer.org.</b></div><div class=\"sk-container\" hidden><div class=\"sk-item\"><div class=\"sk-estimator sk-toggleable\"><input class=\"sk-toggleable__control sk-hidden--visually\" id=\"sk-estimator-id-2\" type=\"checkbox\" checked><label for=\"sk-estimator-id-2\" class=\"sk-toggleable__label sk-toggleable__label-arrow\">LinearRegression</label><div class=\"sk-toggleable__content\"><pre>LinearRegression()</pre></div></div></div></div></div>"
      ],
      "text/plain": [
       "LinearRegression()"
      ]
     },
     "execution_count": 16,
     "metadata": {},
     "output_type": "execute_result"
    }
   ],
   "source": [
    "lr=LinearRegression()\n",
    "lr.fit(x_train,y_train)"
   ]
  },
  {
   "cell_type": "code",
   "execution_count": 17,
   "id": "4973daff-f9af-4630-8051-f611891cd037",
   "metadata": {},
   "outputs": [
    {
     "data": {
      "text/plain": [
       "0.9383810371460591"
      ]
     },
     "execution_count": 17,
     "metadata": {},
     "output_type": "execute_result"
    }
   ],
   "source": [
    "lr_score=lr.score(x_test,y_test)\n",
    "lr_score"
   ]
  },
  {
   "cell_type": "code",
   "execution_count": 18,
   "id": "05690efe-f629-42d4-b039-2c02a68ea646",
   "metadata": {},
   "outputs": [
    {
     "name": "stderr",
     "output_type": "stream",
     "text": [
      "C:\\Users\\KAANANE Youssef\\AppData\\Local\\Temp\\ipykernel_8556\\3615907597.py:1: FutureWarning: In a future version of pandas all arguments of DataFrame.drop except for the argument 'labels' will be keyword-only.\n",
      "  x_forecast=np.array(df.drop(['Prediction'],1))[-forecast:]\n"
     ]
    }
   ],
   "source": [
    "x_forecast=np.array(df.drop(['Prediction'],1))[-forecast:]"
   ]
  },
  {
   "cell_type": "code",
   "execution_count": 19,
   "id": "dfec2155-17a1-4e65-87e4-180f408f4dcd",
   "metadata": {},
   "outputs": [
    {
     "name": "stdout",
     "output_type": "stream",
     "text": [
      "[[111.02587891]\n",
      " [111.62361145]\n",
      " [109.44194031]\n",
      " [111.01593018]\n",
      " [111.81288147]\n",
      " [110.98605347]\n",
      " [108.36605072]\n",
      " [109.04345703]\n",
      " [117.65058136]\n",
      " [119.98168945]\n",
      " [123.02007294]\n",
      " [121.9641037 ]\n",
      " [113.68572235]\n",
      " [113.4964447 ]\n",
      " [114.89111328]\n",
      " [115.45895386]\n",
      " [114.27348328]\n",
      " [119.69278717]\n",
      " [121.12729645]\n",
      " [115.70800781]\n",
      " [118.9755249 ]\n",
      " [114.0443573 ]\n",
      " [116.64442444]\n",
      " [119.30426025]\n",
      " [116.67430878]\n",
      " [117.59080505]\n",
      " [116.43521881]\n",
      " [115.18002319]\n",
      " [119.80236816]\n",
      " [119.88205719]]\n"
     ]
    }
   ],
   "source": [
    "print(x_forecast)"
   ]
  },
  {
   "cell_type": "code",
   "execution_count": 22,
   "id": "fbcc18bb-5768-474a-8a22-9924b81fe059",
   "metadata": {},
   "outputs": [
    {
     "data": {
      "text/plain": [
       "array([113.39464284, 113.97140184, 111.86628227, 113.38504319,\n",
       "       114.15403066, 113.35621481, 110.82814403, 111.48178117,\n",
       "       119.78689442, 122.03620743, 124.96797859, 123.94906173,\n",
       "       115.96115637, 115.77852019, 117.12425194, 117.67216784,\n",
       "       116.52829364, 121.75744229, 123.14161679, 117.91248286,\n",
       "       121.06534768, 116.30720735, 118.81604203, 121.3825482 ,\n",
       "       118.84487778, 119.72921557, 118.61417712, 117.40302443,\n",
       "       121.86317825, 121.94007111])"
      ]
     },
     "execution_count": 22,
     "metadata": {},
     "output_type": "execute_result"
    }
   ],
   "source": [
    "lr_pred=lr.predict(x_forecast)\n",
    "lr_pred\n"
   ]
  },
  {
   "cell_type": "code",
   "execution_count": 23,
   "id": "846eab76-8b3c-453b-a512-d61fb0f5ed3a",
   "metadata": {},
   "outputs": [
    {
     "data": {
      "text/plain": [
       "array([117.74070415, 117.39466209, 114.96635173, 117.74465185,\n",
       "       117.34896402, 117.75546969, 111.43058946, 113.57915194,\n",
       "       120.58341042, 123.99713886, 128.20671012, 127.71382087,\n",
       "       121.48981305, 120.93548375, 123.33841356, 123.46087975,\n",
       "       122.7626912 , 122.90885205, 126.94603087, 123.44214779,\n",
       "       120.50320286, 122.35734175, 122.71917348, 121.48259195,\n",
       "       122.67210654, 120.71285406, 123.00269629, 123.43172453,\n",
       "       123.32658002, 123.62764479])"
      ]
     },
     "execution_count": 23,
     "metadata": {},
     "output_type": "execute_result"
    }
   ],
   "source": [
    "svm_pred=svr_rbf.predict(x_forecast)\n",
    "svm_pred"
   ]
  },
  {
   "cell_type": "code",
   "execution_count": null,
   "id": "8ca52219-4cf6-4fac-b63e-8fcb02558e5e",
   "metadata": {},
   "outputs": [],
   "source": []
  }
 ],
 "metadata": {
  "kernelspec": {
   "display_name": "Python 3 (ipykernel)",
   "language": "python",
   "name": "python3"
  },
  "language_info": {
   "codemirror_mode": {
    "name": "ipython",
    "version": 3
   },
   "file_extension": ".py",
   "mimetype": "text/x-python",
   "name": "python",
   "nbconvert_exporter": "python",
   "pygments_lexer": "ipython3",
   "version": "3.11.1"
  }
 },
 "nbformat": 4,
 "nbformat_minor": 5
}
